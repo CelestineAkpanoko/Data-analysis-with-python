{
  "nbformat": 4,
  "nbformat_minor": 0,
  "metadata": {
    "colab": {
      "name": "Regression_Analysis_on_BTC_data.ipynb",
      "provenance": [],
      "mount_file_id": "1drsKbWGSOGv_u94fAw5MlVidthUbTp6R",
      "authorship_tag": "ABX9TyM0BIATdwD4dhrXyXJAtHbl",
      "include_colab_link": true
    },
    "kernelspec": {
      "name": "python3",
      "display_name": "Python 3"
    },
    "language_info": {
      "name": "python"
    }
  },
  "cells": [
    {
      "cell_type": "markdown",
      "metadata": {
        "id": "view-in-github",
        "colab_type": "text"
      },
      "source": [
        "<a href=\"https://colab.research.google.com/github/CelestineAkpanoko/Data-analysis-with-python/blob/main/iQubeLabs/Regression_Analysis_on_BTC_data.ipynb\" target=\"_parent\"><img src=\"https://colab.research.google.com/assets/colab-badge.svg\" alt=\"Open In Colab\"/></a>"
      ]
    },
    {
      "cell_type": "code",
      "execution_count": 81,
      "metadata": {
        "id": "QKuEHuN2I0o0"
      },
      "outputs": [],
      "source": [
        "# Initial Importations\n",
        "import pandas as pd\n",
        "import numpy as np\n",
        "import matplotlib.pyplot as plt\n",
        "%matplotlib inline\n",
        "import seaborn as sns\n",
        "palette=sns.color_palette('mako')\n",
        "sns.set(palette=palette)\n",
        "\n",
        "data = '/content/drive/MyDrive/Colab Notebooks/iQube Labs Research/BTCUSDT_1h.csv'"
      ]
    },
    {
      "cell_type": "code",
      "source": [
        "df = pd.read_csv(data)\n",
        "df_copy = df.copy()\n",
        "df.head()"
      ],
      "metadata": {
        "colab": {
          "base_uri": "https://localhost:8080/",
          "height": 206
        },
        "id": "gXhMuIUmXi9_",
        "outputId": "ea47118d-4a12-427d-80bf-719050d79947"
      },
      "execution_count": 82,
      "outputs": [
        {
          "output_type": "execute_result",
          "data": {
            "text/plain": [
              "      open     high      low    close     volume  \\\n",
              "0  4261.48  4313.62  4261.32  4308.83  47.181009   \n",
              "1  4308.83  4328.69  4291.37  4315.32  23.234916   \n",
              "2  4330.29  4345.45  4309.37  4324.35   7.229691   \n",
              "3  4316.62  4349.99  4287.41  4349.99   4.443249   \n",
              "4  4333.32  4377.85  4333.32  4360.69   0.972807   \n",
              "\n",
              "                         close_time          quote  takers_buy_base  \\\n",
              "0  2017-08-16 23:59:59.999000-05:00  202366.138393        35.160503   \n",
              "1  2017-08-17 00:59:59.999000-05:00  100304.823567        21.448071   \n",
              "2  2017-08-17 01:59:59.999000-05:00   31282.312670         4.802861   \n",
              "3  2017-08-17 02:59:59.999000-05:00   19241.058300         2.602292   \n",
              "4  2017-08-17 03:59:59.999000-05:00    4239.503586         0.814655   \n",
              "\n",
              "   takers_buy_quote  \n",
              "0     150952.477943  \n",
              "1      92608.279728  \n",
              "2      20795.317224  \n",
              "3      11291.347015  \n",
              "4       3552.746817  "
            ],
            "text/html": [
              "\n",
              "  <div id=\"df-6db8ae17-338c-4f4a-9985-5cfd7194bb50\">\n",
              "    <div class=\"colab-df-container\">\n",
              "      <div>\n",
              "<style scoped>\n",
              "    .dataframe tbody tr th:only-of-type {\n",
              "        vertical-align: middle;\n",
              "    }\n",
              "\n",
              "    .dataframe tbody tr th {\n",
              "        vertical-align: top;\n",
              "    }\n",
              "\n",
              "    .dataframe thead th {\n",
              "        text-align: right;\n",
              "    }\n",
              "</style>\n",
              "<table border=\"1\" class=\"dataframe\">\n",
              "  <thead>\n",
              "    <tr style=\"text-align: right;\">\n",
              "      <th></th>\n",
              "      <th>open</th>\n",
              "      <th>high</th>\n",
              "      <th>low</th>\n",
              "      <th>close</th>\n",
              "      <th>volume</th>\n",
              "      <th>close_time</th>\n",
              "      <th>quote</th>\n",
              "      <th>takers_buy_base</th>\n",
              "      <th>takers_buy_quote</th>\n",
              "    </tr>\n",
              "  </thead>\n",
              "  <tbody>\n",
              "    <tr>\n",
              "      <th>0</th>\n",
              "      <td>4261.48</td>\n",
              "      <td>4313.62</td>\n",
              "      <td>4261.32</td>\n",
              "      <td>4308.83</td>\n",
              "      <td>47.181009</td>\n",
              "      <td>2017-08-16 23:59:59.999000-05:00</td>\n",
              "      <td>202366.138393</td>\n",
              "      <td>35.160503</td>\n",
              "      <td>150952.477943</td>\n",
              "    </tr>\n",
              "    <tr>\n",
              "      <th>1</th>\n",
              "      <td>4308.83</td>\n",
              "      <td>4328.69</td>\n",
              "      <td>4291.37</td>\n",
              "      <td>4315.32</td>\n",
              "      <td>23.234916</td>\n",
              "      <td>2017-08-17 00:59:59.999000-05:00</td>\n",
              "      <td>100304.823567</td>\n",
              "      <td>21.448071</td>\n",
              "      <td>92608.279728</td>\n",
              "    </tr>\n",
              "    <tr>\n",
              "      <th>2</th>\n",
              "      <td>4330.29</td>\n",
              "      <td>4345.45</td>\n",
              "      <td>4309.37</td>\n",
              "      <td>4324.35</td>\n",
              "      <td>7.229691</td>\n",
              "      <td>2017-08-17 01:59:59.999000-05:00</td>\n",
              "      <td>31282.312670</td>\n",
              "      <td>4.802861</td>\n",
              "      <td>20795.317224</td>\n",
              "    </tr>\n",
              "    <tr>\n",
              "      <th>3</th>\n",
              "      <td>4316.62</td>\n",
              "      <td>4349.99</td>\n",
              "      <td>4287.41</td>\n",
              "      <td>4349.99</td>\n",
              "      <td>4.443249</td>\n",
              "      <td>2017-08-17 02:59:59.999000-05:00</td>\n",
              "      <td>19241.058300</td>\n",
              "      <td>2.602292</td>\n",
              "      <td>11291.347015</td>\n",
              "    </tr>\n",
              "    <tr>\n",
              "      <th>4</th>\n",
              "      <td>4333.32</td>\n",
              "      <td>4377.85</td>\n",
              "      <td>4333.32</td>\n",
              "      <td>4360.69</td>\n",
              "      <td>0.972807</td>\n",
              "      <td>2017-08-17 03:59:59.999000-05:00</td>\n",
              "      <td>4239.503586</td>\n",
              "      <td>0.814655</td>\n",
              "      <td>3552.746817</td>\n",
              "    </tr>\n",
              "  </tbody>\n",
              "</table>\n",
              "</div>\n",
              "      <button class=\"colab-df-convert\" onclick=\"convertToInteractive('df-6db8ae17-338c-4f4a-9985-5cfd7194bb50')\"\n",
              "              title=\"Convert this dataframe to an interactive table.\"\n",
              "              style=\"display:none;\">\n",
              "        \n",
              "  <svg xmlns=\"http://www.w3.org/2000/svg\" height=\"24px\"viewBox=\"0 0 24 24\"\n",
              "       width=\"24px\">\n",
              "    <path d=\"M0 0h24v24H0V0z\" fill=\"none\"/>\n",
              "    <path d=\"M18.56 5.44l.94 2.06.94-2.06 2.06-.94-2.06-.94-.94-2.06-.94 2.06-2.06.94zm-11 1L8.5 8.5l.94-2.06 2.06-.94-2.06-.94L8.5 2.5l-.94 2.06-2.06.94zm10 10l.94 2.06.94-2.06 2.06-.94-2.06-.94-.94-2.06-.94 2.06-2.06.94z\"/><path d=\"M17.41 7.96l-1.37-1.37c-.4-.4-.92-.59-1.43-.59-.52 0-1.04.2-1.43.59L10.3 9.45l-7.72 7.72c-.78.78-.78 2.05 0 2.83L4 21.41c.39.39.9.59 1.41.59.51 0 1.02-.2 1.41-.59l7.78-7.78 2.81-2.81c.8-.78.8-2.07 0-2.86zM5.41 20L4 18.59l7.72-7.72 1.47 1.35L5.41 20z\"/>\n",
              "  </svg>\n",
              "      </button>\n",
              "      \n",
              "  <style>\n",
              "    .colab-df-container {\n",
              "      display:flex;\n",
              "      flex-wrap:wrap;\n",
              "      gap: 12px;\n",
              "    }\n",
              "\n",
              "    .colab-df-convert {\n",
              "      background-color: #E8F0FE;\n",
              "      border: none;\n",
              "      border-radius: 50%;\n",
              "      cursor: pointer;\n",
              "      display: none;\n",
              "      fill: #1967D2;\n",
              "      height: 32px;\n",
              "      padding: 0 0 0 0;\n",
              "      width: 32px;\n",
              "    }\n",
              "\n",
              "    .colab-df-convert:hover {\n",
              "      background-color: #E2EBFA;\n",
              "      box-shadow: 0px 1px 2px rgba(60, 64, 67, 0.3), 0px 1px 3px 1px rgba(60, 64, 67, 0.15);\n",
              "      fill: #174EA6;\n",
              "    }\n",
              "\n",
              "    [theme=dark] .colab-df-convert {\n",
              "      background-color: #3B4455;\n",
              "      fill: #D2E3FC;\n",
              "    }\n",
              "\n",
              "    [theme=dark] .colab-df-convert:hover {\n",
              "      background-color: #434B5C;\n",
              "      box-shadow: 0px 1px 3px 1px rgba(0, 0, 0, 0.15);\n",
              "      filter: drop-shadow(0px 1px 2px rgba(0, 0, 0, 0.3));\n",
              "      fill: #FFFFFF;\n",
              "    }\n",
              "  </style>\n",
              "\n",
              "      <script>\n",
              "        const buttonEl =\n",
              "          document.querySelector('#df-6db8ae17-338c-4f4a-9985-5cfd7194bb50 button.colab-df-convert');\n",
              "        buttonEl.style.display =\n",
              "          google.colab.kernel.accessAllowed ? 'block' : 'none';\n",
              "\n",
              "        async function convertToInteractive(key) {\n",
              "          const element = document.querySelector('#df-6db8ae17-338c-4f4a-9985-5cfd7194bb50');\n",
              "          const dataTable =\n",
              "            await google.colab.kernel.invokeFunction('convertToInteractive',\n",
              "                                                     [key], {});\n",
              "          if (!dataTable) return;\n",
              "\n",
              "          const docLinkHtml = 'Like what you see? Visit the ' +\n",
              "            '<a target=\"_blank\" href=https://colab.research.google.com/notebooks/data_table.ipynb>data table notebook</a>'\n",
              "            + ' to learn more about interactive tables.';\n",
              "          element.innerHTML = '';\n",
              "          dataTable['output_type'] = 'display_data';\n",
              "          await google.colab.output.renderOutput(dataTable, element);\n",
              "          const docLink = document.createElement('div');\n",
              "          docLink.innerHTML = docLinkHtml;\n",
              "          element.appendChild(docLink);\n",
              "        }\n",
              "      </script>\n",
              "    </div>\n",
              "  </div>\n",
              "  "
            ]
          },
          "metadata": {},
          "execution_count": 82
        }
      ]
    },
    {
      "cell_type": "markdown",
      "source": [
        "The dataset depicts an hour price range on Bitcoin, and it consist of the following columns: open, high, low, close, volume, close_time, quote, takers_buy_base, and takers_buy_quote. The purpose of analysing this dataset is to visualize the price ranges over the years and to make predictions based on the previous price information. "
      ],
      "metadata": {
        "id": "xJqbupu-4ngY"
      }
    },
    {
      "cell_type": "code",
      "source": [
        "df.info()"
      ],
      "metadata": {
        "colab": {
          "base_uri": "https://localhost:8080/"
        },
        "id": "Ce0Myr0MdGwY",
        "outputId": "6cb830a3-c3d3-4b33-f4c2-3a4b5816a39d"
      },
      "execution_count": 47,
      "outputs": [
        {
          "output_type": "stream",
          "name": "stdout",
          "text": [
            "<class 'pandas.core.frame.DataFrame'>\n",
            "RangeIndex: 38461 entries, 0 to 38460\n",
            "Data columns (total 9 columns):\n",
            " #   Column            Non-Null Count  Dtype  \n",
            "---  ------            --------------  -----  \n",
            " 0   open              38461 non-null  float64\n",
            " 1   high              38461 non-null  float64\n",
            " 2   low               38461 non-null  float64\n",
            " 3   close             38461 non-null  float64\n",
            " 4   volume            38461 non-null  float64\n",
            " 5   close_time        38461 non-null  object \n",
            " 6   quote             38461 non-null  float64\n",
            " 7   takers_buy_base   38461 non-null  float64\n",
            " 8   takers_buy_quote  38461 non-null  float64\n",
            "dtypes: float64(8), object(1)\n",
            "memory usage: 2.6+ MB\n"
          ]
        }
      ]
    },
    {
      "cell_type": "code",
      "source": [
        "df.describe()"
      ],
      "metadata": {
        "colab": {
          "base_uri": "https://localhost:8080/",
          "height": 300
        },
        "id": "erF-7mIxdMPX",
        "outputId": "66969b1e-e50b-4c40-f5f0-be83ea2358a3"
      },
      "execution_count": 48,
      "outputs": [
        {
          "output_type": "execute_result",
          "data": {
            "text/plain": [
              "               open          high           low         close        volume  \\\n",
              "count  38461.000000  38461.000000  38461.000000  38461.000000  38461.000000   \n",
              "mean   17589.002805  17696.560219  17473.314191  17589.962025   2101.814189   \n",
              "std    17359.685254  17463.372583  17249.006318  17359.989729   2175.337360   \n",
              "min     2870.900000   2950.000000   2817.000000   2919.000000      0.000000   \n",
              "25%     6726.000000   6752.760000   6695.490000   6726.110000    919.149470   \n",
              "50%     9298.330000   9339.370000   9259.980000   9298.750000   1536.182670   \n",
              "75%    19024.330000  19125.760000  18900.000000  19026.490000   2571.497519   \n",
              "max    68635.120000  69000.000000  68451.190000  68633.690000  47255.762685   \n",
              "\n",
              "              quote  takers_buy_base  takers_buy_quote  \n",
              "count  3.846100e+04     38461.000000      3.846100e+04  \n",
              "mean   4.369855e+07      1046.701701      2.159233e+07  \n",
              "std    7.080532e+07      1066.267302      3.481741e+07  \n",
              "min    0.000000e+00         0.000000      0.000000e+00  \n",
              "25%    7.125238e+06       470.170524      3.665090e+06  \n",
              "50%    1.545427e+07       773.216614      7.739254e+06  \n",
              "75%    5.187811e+07      1279.230445      2.529690e+07  \n",
              "max    1.514465e+09     20628.794047      6.849674e+08  "
            ],
            "text/html": [
              "\n",
              "  <div id=\"df-3817695e-bb45-4352-bd97-9defabc6eb28\">\n",
              "    <div class=\"colab-df-container\">\n",
              "      <div>\n",
              "<style scoped>\n",
              "    .dataframe tbody tr th:only-of-type {\n",
              "        vertical-align: middle;\n",
              "    }\n",
              "\n",
              "    .dataframe tbody tr th {\n",
              "        vertical-align: top;\n",
              "    }\n",
              "\n",
              "    .dataframe thead th {\n",
              "        text-align: right;\n",
              "    }\n",
              "</style>\n",
              "<table border=\"1\" class=\"dataframe\">\n",
              "  <thead>\n",
              "    <tr style=\"text-align: right;\">\n",
              "      <th></th>\n",
              "      <th>open</th>\n",
              "      <th>high</th>\n",
              "      <th>low</th>\n",
              "      <th>close</th>\n",
              "      <th>volume</th>\n",
              "      <th>quote</th>\n",
              "      <th>takers_buy_base</th>\n",
              "      <th>takers_buy_quote</th>\n",
              "    </tr>\n",
              "  </thead>\n",
              "  <tbody>\n",
              "    <tr>\n",
              "      <th>count</th>\n",
              "      <td>38461.000000</td>\n",
              "      <td>38461.000000</td>\n",
              "      <td>38461.000000</td>\n",
              "      <td>38461.000000</td>\n",
              "      <td>38461.000000</td>\n",
              "      <td>3.846100e+04</td>\n",
              "      <td>38461.000000</td>\n",
              "      <td>3.846100e+04</td>\n",
              "    </tr>\n",
              "    <tr>\n",
              "      <th>mean</th>\n",
              "      <td>17589.002805</td>\n",
              "      <td>17696.560219</td>\n",
              "      <td>17473.314191</td>\n",
              "      <td>17589.962025</td>\n",
              "      <td>2101.814189</td>\n",
              "      <td>4.369855e+07</td>\n",
              "      <td>1046.701701</td>\n",
              "      <td>2.159233e+07</td>\n",
              "    </tr>\n",
              "    <tr>\n",
              "      <th>std</th>\n",
              "      <td>17359.685254</td>\n",
              "      <td>17463.372583</td>\n",
              "      <td>17249.006318</td>\n",
              "      <td>17359.989729</td>\n",
              "      <td>2175.337360</td>\n",
              "      <td>7.080532e+07</td>\n",
              "      <td>1066.267302</td>\n",
              "      <td>3.481741e+07</td>\n",
              "    </tr>\n",
              "    <tr>\n",
              "      <th>min</th>\n",
              "      <td>2870.900000</td>\n",
              "      <td>2950.000000</td>\n",
              "      <td>2817.000000</td>\n",
              "      <td>2919.000000</td>\n",
              "      <td>0.000000</td>\n",
              "      <td>0.000000e+00</td>\n",
              "      <td>0.000000</td>\n",
              "      <td>0.000000e+00</td>\n",
              "    </tr>\n",
              "    <tr>\n",
              "      <th>25%</th>\n",
              "      <td>6726.000000</td>\n",
              "      <td>6752.760000</td>\n",
              "      <td>6695.490000</td>\n",
              "      <td>6726.110000</td>\n",
              "      <td>919.149470</td>\n",
              "      <td>7.125238e+06</td>\n",
              "      <td>470.170524</td>\n",
              "      <td>3.665090e+06</td>\n",
              "    </tr>\n",
              "    <tr>\n",
              "      <th>50%</th>\n",
              "      <td>9298.330000</td>\n",
              "      <td>9339.370000</td>\n",
              "      <td>9259.980000</td>\n",
              "      <td>9298.750000</td>\n",
              "      <td>1536.182670</td>\n",
              "      <td>1.545427e+07</td>\n",
              "      <td>773.216614</td>\n",
              "      <td>7.739254e+06</td>\n",
              "    </tr>\n",
              "    <tr>\n",
              "      <th>75%</th>\n",
              "      <td>19024.330000</td>\n",
              "      <td>19125.760000</td>\n",
              "      <td>18900.000000</td>\n",
              "      <td>19026.490000</td>\n",
              "      <td>2571.497519</td>\n",
              "      <td>5.187811e+07</td>\n",
              "      <td>1279.230445</td>\n",
              "      <td>2.529690e+07</td>\n",
              "    </tr>\n",
              "    <tr>\n",
              "      <th>max</th>\n",
              "      <td>68635.120000</td>\n",
              "      <td>69000.000000</td>\n",
              "      <td>68451.190000</td>\n",
              "      <td>68633.690000</td>\n",
              "      <td>47255.762685</td>\n",
              "      <td>1.514465e+09</td>\n",
              "      <td>20628.794047</td>\n",
              "      <td>6.849674e+08</td>\n",
              "    </tr>\n",
              "  </tbody>\n",
              "</table>\n",
              "</div>\n",
              "      <button class=\"colab-df-convert\" onclick=\"convertToInteractive('df-3817695e-bb45-4352-bd97-9defabc6eb28')\"\n",
              "              title=\"Convert this dataframe to an interactive table.\"\n",
              "              style=\"display:none;\">\n",
              "        \n",
              "  <svg xmlns=\"http://www.w3.org/2000/svg\" height=\"24px\"viewBox=\"0 0 24 24\"\n",
              "       width=\"24px\">\n",
              "    <path d=\"M0 0h24v24H0V0z\" fill=\"none\"/>\n",
              "    <path d=\"M18.56 5.44l.94 2.06.94-2.06 2.06-.94-2.06-.94-.94-2.06-.94 2.06-2.06.94zm-11 1L8.5 8.5l.94-2.06 2.06-.94-2.06-.94L8.5 2.5l-.94 2.06-2.06.94zm10 10l.94 2.06.94-2.06 2.06-.94-2.06-.94-.94-2.06-.94 2.06-2.06.94z\"/><path d=\"M17.41 7.96l-1.37-1.37c-.4-.4-.92-.59-1.43-.59-.52 0-1.04.2-1.43.59L10.3 9.45l-7.72 7.72c-.78.78-.78 2.05 0 2.83L4 21.41c.39.39.9.59 1.41.59.51 0 1.02-.2 1.41-.59l7.78-7.78 2.81-2.81c.8-.78.8-2.07 0-2.86zM5.41 20L4 18.59l7.72-7.72 1.47 1.35L5.41 20z\"/>\n",
              "  </svg>\n",
              "      </button>\n",
              "      \n",
              "  <style>\n",
              "    .colab-df-container {\n",
              "      display:flex;\n",
              "      flex-wrap:wrap;\n",
              "      gap: 12px;\n",
              "    }\n",
              "\n",
              "    .colab-df-convert {\n",
              "      background-color: #E8F0FE;\n",
              "      border: none;\n",
              "      border-radius: 50%;\n",
              "      cursor: pointer;\n",
              "      display: none;\n",
              "      fill: #1967D2;\n",
              "      height: 32px;\n",
              "      padding: 0 0 0 0;\n",
              "      width: 32px;\n",
              "    }\n",
              "\n",
              "    .colab-df-convert:hover {\n",
              "      background-color: #E2EBFA;\n",
              "      box-shadow: 0px 1px 2px rgba(60, 64, 67, 0.3), 0px 1px 3px 1px rgba(60, 64, 67, 0.15);\n",
              "      fill: #174EA6;\n",
              "    }\n",
              "\n",
              "    [theme=dark] .colab-df-convert {\n",
              "      background-color: #3B4455;\n",
              "      fill: #D2E3FC;\n",
              "    }\n",
              "\n",
              "    [theme=dark] .colab-df-convert:hover {\n",
              "      background-color: #434B5C;\n",
              "      box-shadow: 0px 1px 3px 1px rgba(0, 0, 0, 0.15);\n",
              "      filter: drop-shadow(0px 1px 2px rgba(0, 0, 0, 0.3));\n",
              "      fill: #FFFFFF;\n",
              "    }\n",
              "  </style>\n",
              "\n",
              "      <script>\n",
              "        const buttonEl =\n",
              "          document.querySelector('#df-3817695e-bb45-4352-bd97-9defabc6eb28 button.colab-df-convert');\n",
              "        buttonEl.style.display =\n",
              "          google.colab.kernel.accessAllowed ? 'block' : 'none';\n",
              "\n",
              "        async function convertToInteractive(key) {\n",
              "          const element = document.querySelector('#df-3817695e-bb45-4352-bd97-9defabc6eb28');\n",
              "          const dataTable =\n",
              "            await google.colab.kernel.invokeFunction('convertToInteractive',\n",
              "                                                     [key], {});\n",
              "          if (!dataTable) return;\n",
              "\n",
              "          const docLinkHtml = 'Like what you see? Visit the ' +\n",
              "            '<a target=\"_blank\" href=https://colab.research.google.com/notebooks/data_table.ipynb>data table notebook</a>'\n",
              "            + ' to learn more about interactive tables.';\n",
              "          element.innerHTML = '';\n",
              "          dataTable['output_type'] = 'display_data';\n",
              "          await google.colab.output.renderOutput(dataTable, element);\n",
              "          const docLink = document.createElement('div');\n",
              "          docLink.innerHTML = docLinkHtml;\n",
              "          element.appendChild(docLink);\n",
              "        }\n",
              "      </script>\n",
              "    </div>\n",
              "  </div>\n",
              "  "
            ]
          },
          "metadata": {},
          "execution_count": 48
        }
      ]
    },
    {
      "cell_type": "markdown",
      "source": [
        "# Cleaning and EDA"
      ],
      "metadata": {
        "id": "PpTZLcH2539O"
      }
    },
    {
      "cell_type": "code",
      "source": [
        "# Checking for the number of empty values\n",
        "df.isna().sum()"
      ],
      "metadata": {
        "colab": {
          "base_uri": "https://localhost:8080/"
        },
        "id": "8gWRz9_D53IC",
        "outputId": "ddaa6e48-d2e8-4fae-9047-d83bb885ac84"
      },
      "execution_count": 49,
      "outputs": [
        {
          "output_type": "execute_result",
          "data": {
            "text/plain": [
              "open                0\n",
              "high                0\n",
              "low                 0\n",
              "close               0\n",
              "volume              0\n",
              "close_time          0\n",
              "quote               0\n",
              "takers_buy_base     0\n",
              "takers_buy_quote    0\n",
              "dtype: int64"
            ]
          },
          "metadata": {},
          "execution_count": 49
        }
      ]
    },
    {
      "cell_type": "markdown",
      "source": [
        ""
      ],
      "metadata": {
        "id": "3cdOmnM76TIJ"
      }
    },
    {
      "cell_type": "code",
      "source": [
        "# Check the close time range\n",
        "df['close_time'].min(), df['close_time'].max()"
      ],
      "metadata": {
        "colab": {
          "base_uri": "https://localhost:8080/"
        },
        "id": "QyfpAwYQ59WR",
        "outputId": "455d270f-1fdb-4378-c1e6-d862fe69a6b2"
      },
      "execution_count": 50,
      "outputs": [
        {
          "output_type": "execute_result",
          "data": {
            "text/plain": [
              "('2017-08-16 23:59:59.999000-05:00', '2022-01-10 17:59:59.999000-05:00')"
            ]
          },
          "metadata": {},
          "execution_count": 50
        }
      ]
    },
    {
      "cell_type": "code",
      "source": [
        "# Converting close_time column to datetime and remove localization\n",
        "df['close_time'] = pd.to_datetime(df['close_time'])\n",
        "df['close_time'] = df['close_time'].dt.tz_localize(None)\n",
        "df.info()"
      ],
      "metadata": {
        "colab": {
          "base_uri": "https://localhost:8080/"
        },
        "id": "vZKooBlF7BCZ",
        "outputId": "fdb66786-a5f6-478a-85f5-e3e68681c2f7"
      },
      "execution_count": 83,
      "outputs": [
        {
          "output_type": "stream",
          "name": "stdout",
          "text": [
            "<class 'pandas.core.frame.DataFrame'>\n",
            "RangeIndex: 38461 entries, 0 to 38460\n",
            "Data columns (total 9 columns):\n",
            " #   Column            Non-Null Count  Dtype         \n",
            "---  ------            --------------  -----         \n",
            " 0   open              38461 non-null  float64       \n",
            " 1   high              38461 non-null  float64       \n",
            " 2   low               38461 non-null  float64       \n",
            " 3   close             38461 non-null  float64       \n",
            " 4   volume            38461 non-null  float64       \n",
            " 5   close_time        38461 non-null  datetime64[ns]\n",
            " 6   quote             38461 non-null  float64       \n",
            " 7   takers_buy_base   38461 non-null  float64       \n",
            " 8   takers_buy_quote  38461 non-null  float64       \n",
            "dtypes: datetime64[ns](1), float64(8)\n",
            "memory usage: 2.6 MB\n"
          ]
        }
      ]
    },
    {
      "cell_type": "code",
      "source": [
        "# Getting the months across the years\n",
        "import calendar\n",
        "df['month'] = df['close_time'].dt.month\n",
        "df['month'] = df['month'].apply(lambda x: calendar.month_abbr[x])\n",
        "df['month'].value_counts()"
      ],
      "metadata": {
        "colab": {
          "base_uri": "https://localhost:8080/"
        },
        "id": "gxws2WDtcmwI",
        "outputId": "eec49874-8ada-4b05-d187-874b5faf28e9"
      },
      "execution_count": 84,
      "outputs": [
        {
          "output_type": "execute_result",
          "data": {
            "text/plain": [
              "Oct    3717\n",
              "Dec    3716\n",
              "Sep    3591\n",
              "Nov    3588\n",
              "Aug    3325\n",
              "Jan    3209\n",
              "Jul    2969\n",
              "Mar    2968\n",
              "May    2966\n",
              "Apr    2873\n",
              "Jun    2866\n",
              "Feb    2673\n",
              "Name: month, dtype: int64"
            ]
          },
          "metadata": {},
          "execution_count": 84
        }
      ]
    },
    {
      "cell_type": "code",
      "source": [
        "sns.catplot(data=df, x='month', y='volume')\n",
        "plt.show()"
      ],
      "metadata": {
        "colab": {
          "base_uri": "https://localhost:8080/",
          "height": 365
        },
        "id": "5a1OSuBxgX3y",
        "outputId": "c033f013-4eff-49f0-9e93-853f2fb63e13"
      },
      "execution_count": 92,
      "outputs": [
        {
          "output_type": "display_data",
          "data": {
            "text/plain": [
              "<Figure size 360x360 with 1 Axes>"
            ],
            "image/png": "[encoded data removed]"
          },
          "metadata": {}
        }
      ]
    },
    {
      "cell_type": "markdown",
      "source": [
        "From the visualization, we can see that for over 5 years (2017 - 2022), the month of May has had the highest BTC volume circulation. August has been the month with the lowest volume circulation. "
      ],
      "metadata": {
        "id": "7Ft0_IEQnkt4"
      }
    },
    {
      "cell_type": "code",
      "source": [
        "x = df['month']\n",
        "y = df['high']\n",
        "# sns.scatterplot(data=df, x='month', y='high')\n",
        "plt.plot(x,y, 'o')\n",
        "plt.show()"
      ],
      "metadata": {
        "colab": {
          "base_uri": "https://localhost:8080/",
          "height": 268
        },
        "id": "TGnOsvO3oO8u",
        "outputId": "42374ebf-7622-4c54-f610-c8fe2a2310d2"
      },
      "execution_count": 97,
      "outputs": [
        {
          "output_type": "display_data",
          "data": {
            "text/plain": [
              "<Figure size 432x288 with 1 Axes>"
            ],
            "image/png": "[encoded data removed]"
          },
          "metadata": {}
        }
      ]
    },
    {
      "cell_type": "markdown",
      "source": [
        "From the plot, we can see that the ATH (All Time High) price has broke 60 thousand dollars milestone in 5 different months; October, November, March, April, and June. The ATH price over the 5 years is $70k. "
      ],
      "metadata": {
        "id": "hIbchD5vpHSh"
      }
    },
    {
      "cell_type": "code",
      "source": [
        "# Visualizing btc volume across the years (2017 -2022)\n",
        "y = df['volume']\n",
        "x = df['close_time_months'] = df['close_time'].dt.strftime('%Y')\n",
        "plt.xlabel('Year (2017 - 2022)')\n",
        "plt.ylabel('BTC Volume')\n",
        "plt.title('BTC Volume against Year')\n",
        "plt.plot(x, y,'o')\n",
        "plt.show()"
      ],
      "metadata": {
        "colab": {
          "base_uri": "https://localhost:8080/",
          "height": 295
        },
        "id": "l8LDffnz_O3-",
        "outputId": "01400863-4b65-4aae-98e6-5f00fa4b178a"
      },
      "execution_count": 24,
      "outputs": [
        {
          "output_type": "display_data",
          "data": {
            "text/plain": [
              "<Figure size 432x288 with 1 Axes>"
            ],
            "image/png": "[encoded data removed]"
          },
          "metadata": {
            "needs_background": "light"
          }
        }
      ]
    },
    {
      "cell_type": "markdown",
      "source": [
        "The plot above depicts BTC volume over the years, ranging from 2017 to 2022. From the plot, we can see that 2020 has the highest volume of BTC circulated. Although, the volume of BTC in 2022 in this dataset ends in January. "
      ],
      "metadata": {
        "id": "fbL4KPu5Tsc5"
      }
    },
    {
      "cell_type": "markdown",
      "source": [
        "# Supervised Learning: Regression"
      ],
      "metadata": {
        "id": "QtmgQaFzqWaF"
      }
    },
    {
      "cell_type": "code",
      "source": [
        "# Setup target and features\n",
        "from sklearn.model_selection import train_test_split\n",
        "target = df['high']\n",
        "features = df[['open', 'close', 'low', 'volume']]\n",
        "\n",
        "X_train, X_test, y_train, y_test = train_test_split(features, target, shuffle=True, test_size=0.25)"
      ],
      "metadata": {
        "id": "Tsr2HR7_q6b3"
      },
      "execution_count": 100,
      "outputs": []
    },
    {
      "cell_type": "code",
      "source": [
        "# Build model\n",
        "from sklearn.ensemble import RandomForestRegressor\n",
        "\n",
        "btc_model = RandomForestRegressor(random_state=3)\n",
        "\n",
        "btc_model = btc_model.fit(X_train, y_train)"
      ],
      "metadata": {
        "id": "BsqSwr1Mv20B"
      },
      "execution_count": 107,
      "outputs": []
    },
    {
      "cell_type": "markdown",
      "source": [
        "Now, let's predict and validate our prediction with mean squared error."
      ],
      "metadata": {
        "id": "79WRVzjHCRo5"
      }
    },
    {
      "cell_type": "code",
      "source": [
        "from sklearn.metrics import mean_squared_error\n",
        "y_pred = btc_model.predict(X_test)\n",
        "print(mean_squared_error(y_test, y_pred))"
      ],
      "metadata": {
        "colab": {
          "base_uri": "https://localhost:8080/"
        },
        "id": "ti1gRtSACMoq",
        "outputId": "debc0271-a3a2-4f40-f859-e80f465f420f"
      },
      "execution_count": 108,
      "outputs": [
        {
          "output_type": "stream",
          "name": "stdout",
          "text": [
            "5985.708686804046\n"
          ]
        }
      ]
    },
    {
      "cell_type": "markdown",
      "source": [
        "## Fine-tuning"
      ],
      "metadata": {
        "id": "R4-a407kCoJY"
      }
    },
    {
      "cell_type": "code",
      "source": [
        "target = df['high']\n",
        "features = df[['open', 'close', 'low', 'volume', 'takers_buy_base', 'takers_buy_quote', 'quote']]\n",
        "\n",
        "X_train, X_test, y_train, y_test = train_test_split(features, target, shuffle=True, test_size=0.30)"
      ],
      "metadata": {
        "id": "txwlWp6zHhQc"
      },
      "execution_count": 119,
      "outputs": []
    },
    {
      "cell_type": "code",
      "source": [
        "btc_model = RandomForestRegressor(random_state=0, max_samples=20000, max_depth=2000, max_leaf_nodes=50000)\n",
        "\n",
        "btc_model = btc_model.fit(X_train, y_train)\n",
        "y_pred = btc_model.predict(X_test)\n",
        "print(mean_squared_error(y_test, y_pred))"
      ],
      "metadata": {
        "colab": {
          "base_uri": "https://localhost:8080/"
        },
        "id": "2YPjR_QNCrB5",
        "outputId": "09d65de4-f457-4888-b6ba-7e6132b47392"
      },
      "execution_count": 146,
      "outputs": [
        {
          "output_type": "stream",
          "name": "stdout",
          "text": [
            "5980.860959109816\n"
          ]
        }
      ]
    }
  ]
}