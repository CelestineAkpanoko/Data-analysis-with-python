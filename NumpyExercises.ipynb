{
  "nbformat": 4,
  "nbformat_minor": 0,
  "metadata": {
    "colab": {
      "name": "NumpyExercises.ipynb",
      "provenance": [],
      "collapsed_sections": [],
      "toc_visible": true,
      "authorship_tag": "ABX9TyOpOpSYeSDZshGlJzZvNoIr",
      "include_colab_link": true
    },
    "kernelspec": {
      "name": "python3",
      "display_name": "Python 3"
    },
    "language_info": {
      "name": "python"
    }
  },
  "cells": [
    {
      "cell_type": "markdown",
      "metadata": {
        "id": "view-in-github",
        "colab_type": "text"
      },
      "source": [
        "<a href=\"https://colab.research.google.com/github/CelestineAkpanoko/Data-analysis-with-python/blob/main/NumpyExercises.ipynb\" target=\"_parent\"><img src=\"https://colab.research.google.com/assets/colab-badge.svg\" alt=\"Open In Colab\"/></a>"
      ]
    },
    {
      "cell_type": "markdown",
      "source": [
        "# Numpy Exercises\n",
        "\n"
      ],
      "metadata": {
        "id": "C5oQ47ukeklu"
      }
    },
    {
      "cell_type": "code",
      "source": [
        "#import numpy package under the name np\n",
        "import numpy as np\n",
        "\n",
        "#print the numpy version and configuration\n",
        "print(np.__version__)"
      ],
      "metadata": {
        "colab": {
          "base_uri": "https://localhost:8080/"
        },
        "id": "N8CaJ4Txe3Db",
        "outputId": "a226c6be-e40d-4c4e-fe6e-11fe1db76ed0"
      },
      "execution_count": 1,
      "outputs": [
        {
          "output_type": "stream",
          "name": "stdout",
          "text": [
            "1.21.5\n"
          ]
        }
      ]
    },
    {
      "cell_type": "markdown",
      "source": [
        "## Array Creation\n",
        "### Create a numpy array of size 10, filled with 0."
      ],
      "metadata": {
        "id": "7LCuUNGKfTiP"
      }
    },
    {
      "cell_type": "code",
      "source": [
        "a = np.arange(10) * 0\n",
        "a"
      ],
      "metadata": {
        "colab": {
          "base_uri": "https://localhost:8080/"
        },
        "id": "jzC-DbWkfKd2",
        "outputId": "e96866db-dd65-4185-f26d-ecbff5549f1c"
      },
      "execution_count": 2,
      "outputs": [
        {
          "output_type": "execute_result",
          "data": {
            "text/plain": [
              "array([0, 0, 0, 0, 0, 0, 0, 0, 0, 0])"
            ]
          },
          "metadata": {},
          "execution_count": 2
        }
      ]
    },
    {
      "cell_type": "markdown",
      "source": [
        "### Create a numpy array with values ranging from 10 to 49"
      ],
      "metadata": {
        "id": "4SSgtp6EgE6l"
      }
    },
    {
      "cell_type": "code",
      "source": [
        "a1 = np.arange(10,50)\n",
        "a1"
      ],
      "metadata": {
        "colab": {
          "base_uri": "https://localhost:8080/"
        },
        "id": "M1r4r3F_gOcn",
        "outputId": "2fe78d30-a8b8-4d98-c4b7-6e5682608f68"
      },
      "execution_count": 3,
      "outputs": [
        {
          "output_type": "execute_result",
          "data": {
            "text/plain": [
              "array([10, 11, 12, 13, 14, 15, 16, 17, 18, 19, 20, 21, 22, 23, 24, 25, 26,\n",
              "       27, 28, 29, 30, 31, 32, 33, 34, 35, 36, 37, 38, 39, 40, 41, 42, 43,\n",
              "       44, 45, 46, 47, 48, 49])"
            ]
          },
          "metadata": {},
          "execution_count": 3
        }
      ]
    }
  ]
}